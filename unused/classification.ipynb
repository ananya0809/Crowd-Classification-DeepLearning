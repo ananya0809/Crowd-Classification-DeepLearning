{
 "cells": [
  {
   "cell_type": "markdown",
   "metadata": {},
   "source": [
    "## Classification (Target Label Generation) using Decision Tree"
   ]
  },
  {
   "cell_type": "markdown",
   "metadata": {},
   "source": [
    "Handling Imports"
   ]
  },
  {
   "cell_type": "code",
   "execution_count": 1,
   "metadata": {},
   "outputs": [],
   "source": [
    "import pandas as pd\n",
    "import numpy as np\n",
    "from sklearn.metrics import confusion_matrix\n",
    "from sklearn.model_selection import train_test_split\n",
    "from sklearn.tree import DecisionTreeClassifier\n",
    "from sklearn.metrics import accuracy_score\n",
    "from sklearn.metrics import classification_report"
   ]
  },
  {
   "cell_type": "markdown",
   "metadata": {},
   "source": [
    "Loading Data from CSV"
   ]
  },
  {
   "cell_type": "code",
   "execution_count": 2,
   "metadata": {},
   "outputs": [
    {
     "data": {
      "text/html": [
       "<div>\n",
       "<style scoped>\n",
       "    .dataframe tbody tr th:only-of-type {\n",
       "        vertical-align: middle;\n",
       "    }\n",
       "\n",
       "    .dataframe tbody tr th {\n",
       "        vertical-align: top;\n",
       "    }\n",
       "\n",
       "    .dataframe thead th {\n",
       "        text-align: right;\n",
       "    }\n",
       "</style>\n",
       "<table border=\"1\" class=\"dataframe\">\n",
       "  <thead>\n",
       "    <tr style=\"text-align: right;\">\n",
       "      <th></th>\n",
       "      <th>IMG_NUM</th>\n",
       "      <th>SOURCE_DATASET</th>\n",
       "      <th>AB</th>\n",
       "      <th>AC</th>\n",
       "      <th>AD</th>\n",
       "      <th>AE</th>\n",
       "      <th>BC</th>\n",
       "      <th>BD</th>\n",
       "      <th>BE</th>\n",
       "      <th>CD</th>\n",
       "      <th>CE</th>\n",
       "      <th>DE</th>\n",
       "      <th>TARGET</th>\n",
       "    </tr>\n",
       "  </thead>\n",
       "  <tbody>\n",
       "    <tr>\n",
       "      <th>0</th>\n",
       "      <td>28</td>\n",
       "      <td>A</td>\n",
       "      <td>133.454112</td>\n",
       "      <td>7.071068</td>\n",
       "      <td>105.095195</td>\n",
       "      <td>10.000000</td>\n",
       "      <td>154.003247</td>\n",
       "      <td>88.617154</td>\n",
       "      <td>5.830952</td>\n",
       "      <td>9.055385</td>\n",
       "      <td>7.071068</td>\n",
       "      <td>11.661904</td>\n",
       "      <td>dense</td>\n",
       "    </tr>\n",
       "    <tr>\n",
       "      <th>1</th>\n",
       "      <td>42</td>\n",
       "      <td>A</td>\n",
       "      <td>62.801274</td>\n",
       "      <td>84.504438</td>\n",
       "      <td>42.059482</td>\n",
       "      <td>31.622777</td>\n",
       "      <td>152.947703</td>\n",
       "      <td>339.676317</td>\n",
       "      <td>59.304300</td>\n",
       "      <td>57.454330</td>\n",
       "      <td>385.149322</td>\n",
       "      <td>336.154726</td>\n",
       "      <td>dense</td>\n",
       "    </tr>\n",
       "    <tr>\n",
       "      <th>2</th>\n",
       "      <td>14</td>\n",
       "      <td>A</td>\n",
       "      <td>41.629317</td>\n",
       "      <td>29.732137</td>\n",
       "      <td>31.622777</td>\n",
       "      <td>26.172505</td>\n",
       "      <td>40.607881</td>\n",
       "      <td>35.227830</td>\n",
       "      <td>287.141080</td>\n",
       "      <td>215.520301</td>\n",
       "      <td>33.136083</td>\n",
       "      <td>368.989160</td>\n",
       "      <td>dense</td>\n",
       "    </tr>\n",
       "    <tr>\n",
       "      <th>3</th>\n",
       "      <td>21</td>\n",
       "      <td>A</td>\n",
       "      <td>41.868843</td>\n",
       "      <td>63.600314</td>\n",
       "      <td>69.462220</td>\n",
       "      <td>285.917820</td>\n",
       "      <td>35.227830</td>\n",
       "      <td>293.586444</td>\n",
       "      <td>368.110038</td>\n",
       "      <td>42.544095</td>\n",
       "      <td>22.472205</td>\n",
       "      <td>38.013156</td>\n",
       "      <td>dense</td>\n",
       "    </tr>\n",
       "    <tr>\n",
       "      <th>4</th>\n",
       "      <td>19</td>\n",
       "      <td>A</td>\n",
       "      <td>330.151480</td>\n",
       "      <td>3.162278</td>\n",
       "      <td>6.000000</td>\n",
       "      <td>164.003049</td>\n",
       "      <td>169.002959</td>\n",
       "      <td>510.553621</td>\n",
       "      <td>4.472136</td>\n",
       "      <td>187.024063</td>\n",
       "      <td>4.123106</td>\n",
       "      <td>349.322201</td>\n",
       "      <td>dense</td>\n",
       "    </tr>\n",
       "  </tbody>\n",
       "</table>\n",
       "</div>"
      ],
      "text/plain": [
       "   IMG_NUM SOURCE_DATASET          AB         AC          AD          AE  \\\n",
       "0       28              A  133.454112   7.071068  105.095195   10.000000   \n",
       "1       42              A   62.801274  84.504438   42.059482   31.622777   \n",
       "2       14              A   41.629317  29.732137   31.622777   26.172505   \n",
       "3       21              A   41.868843  63.600314   69.462220  285.917820   \n",
       "4       19              A  330.151480   3.162278    6.000000  164.003049   \n",
       "\n",
       "           BC          BD          BE          CD          CE          DE  \\\n",
       "0  154.003247   88.617154    5.830952    9.055385    7.071068   11.661904   \n",
       "1  152.947703  339.676317   59.304300   57.454330  385.149322  336.154726   \n",
       "2   40.607881   35.227830  287.141080  215.520301   33.136083  368.989160   \n",
       "3   35.227830  293.586444  368.110038   42.544095   22.472205   38.013156   \n",
       "4  169.002959  510.553621    4.472136  187.024063    4.123106  349.322201   \n",
       "\n",
       "  TARGET  \n",
       "0  dense  \n",
       "1  dense  \n",
       "2  dense  \n",
       "3  dense  \n",
       "4  dense  "
      ]
     },
     "execution_count": 2,
     "metadata": {},
     "output_type": "execute_result"
    }
   ],
   "source": [
    "cluster_data = pd.read_csv(\"exported.csv\", index_col=0)\n",
    "cluster_data.head()"
   ]
  },
  {
   "cell_type": "markdown",
   "metadata": {},
   "source": [
    "Preparing X and Y slices of data, where X is our source data and Y contains the Target Class"
   ]
  },
  {
   "cell_type": "code",
   "execution_count": 12,
   "metadata": {},
   "outputs": [],
   "source": [
    "X = cluster_data.values[:, 2:-1]\n",
    "Y = cluster_data.values[:, -1]"
   ]
  },
  {
   "cell_type": "markdown",
   "metadata": {},
   "source": [
    "Splitting data into Train and Test"
   ]
  },
  {
   "cell_type": "code",
   "execution_count": 13,
   "metadata": {},
   "outputs": [],
   "source": [
    "X_train, X_test, y_train, y_test = train_test_split(X, Y, test_size=0.3)"
   ]
  },
  {
   "cell_type": "markdown",
   "metadata": {},
   "source": [
    "Setting up functions to create decision tree"
   ]
  },
  {
   "cell_type": "code",
   "execution_count": 5,
   "metadata": {},
   "outputs": [],
   "source": [
    "# Function to perform training with giniIndex.\n",
    "def train_using_gini(X_train, X_test, y_train):\n",
    "    # Creating the classifier object\n",
    "    clf_gini = DecisionTreeClassifier(criterion = \"gini\", random_state = 100, max_depth=5, min_samples_leaf=5)\n",
    "    # Performing training\n",
    "    clf_gini.fit(X_train, y_train)\n",
    "    return clf_gini\n",
    "\n",
    "# Function to make predictions\n",
    "def prediction(X_test, clf_object):  \n",
    "    # Predicton on test with giniIndex\n",
    "    y_pred = clf_object.predict(X_test)\n",
    "    print(\"Predicted values:\")\n",
    "    print(y_pred)\n",
    "    return y_pred\n",
    "\n",
    "# Function to calculate accuracy\n",
    "def cal_accuracy(y_test, y_pred):      \n",
    "    print(\"Confusion Matrix: \", confusion_matrix(y_test, y_pred))\n",
    "    print (\"Accuracy : \", accuracy_score(y_test,y_pred) * 100)\n",
    "    print(\"Report : \", classification_report(y_test, y_pred))"
   ]
  },
  {
   "cell_type": "code",
   "execution_count": 7,
   "metadata": {},
   "outputs": [
    {
     "name": "stdout",
     "output_type": "stream",
     "text": [
      "[[615.0292675962665 273.99452549275503 79.1012010022604 103.0194156457898\n",
      "  197.2536438193221 423.70980635335786 773.1474632953276\n",
      "  74.06078584514209 423.0011820314454]\n",
      " [324.2221460665511 51.0881590977792 649.8099722226491 50.93132631298737\n",
      "  367.78390394360656 541.052677657176 122.06555615733704 486.231426380484\n",
      "  242.26638231500465]\n",
      " [41.86884283091664 63.60031446463138 69.46221994724903 285.9178203610261\n",
      "  35.22782990761707 293.58644382872995 368.11003789627904\n",
      "  42.5440947723653 22.47220505424423]\n",
      " [330.15148038438355 3.1622776601683795 6.0 164.00304875214974\n",
      "  169.00295855398508 510.5536210820564 4.47213595499958 187.0240626229684\n",
      "  4.123105625617661]\n",
      " [411.8859065323794 899.4676203177077 620.0169352525784 67.4166151627327\n",
      "  411.3404915638624 104.47966309287182 291.547594742265 514.7475109216168\n",
      "  854.4430934825326]\n",
      " [186.14241859393576 71.19691004531025 160.0312469488381\n",
      "  143.13629868066312 507.6662289339325 195.2434377898525\n",
      "  102.59142264341595 203.5018427434995 487.0657039866388]\n",
      " [238.19529802244207 97.0 465.8594208556912 56.43580423808985 45.0\n",
      "  66.49060083951716 409.93901985539264 248.69660230891776\n",
      "  131.47243057006287]\n",
      " [133.4541119636259 7.071067811865476 105.09519494249012 10.0\n",
      "  154.00324671902212 88.61715409558128 5.830951894845301\n",
      "  9.055385138137416 7.071067811865476]\n",
      " [26.92582403567252 49.92995093127971 62.00806399170998\n",
      "  34.058772731852805 15.811388300841896 205.84703058339215\n",
      "  241.2819926973416 49.04079934095692 250.3377718203947]]\n",
      "Predicted values:\n",
      "['sparse' 'sparse' 'medium' 'dense' 'sparse' 'sparse' 'medium' 'medium'\n",
      " 'dense']\n",
      "Confusion Matrix:  [[2 2 0]\n",
      " [0 1 1]\n",
      " [0 0 3]]\n",
      "Accuracy :  66.66666666666666\n",
      "Report :                precision    recall  f1-score   support\n",
      "\n",
      "       dense       1.00      0.50      0.67         4\n",
      "      medium       0.33      0.50      0.40         2\n",
      "      sparse       0.75      1.00      0.86         3\n",
      "\n",
      "    accuracy                           0.67         9\n",
      "   macro avg       0.69      0.67      0.64         9\n",
      "weighted avg       0.77      0.67      0.67         9\n",
      "\n"
     ]
    }
   ],
   "source": [
    "clf_gini = train_using_gini(X_train, X_test, y_train)\n",
    "\n",
    "print(X_test)\n",
    "y_pred_gini = prediction(X_test, clf_gini)\n",
    "cal_accuracy(y_test, y_pred_gini)"
   ]
  }
 ],
 "metadata": {
  "interpreter": {
   "hash": "5b3ded1ccb95c1d9bd405e7b823d9e85424cde40fbb5985eb47e999ef50e15b4"
  },
  "kernelspec": {
   "display_name": "Python 3.8.13 64-bit",
   "language": "python",
   "name": "python3"
  },
  "language_info": {
   "codemirror_mode": {
    "name": "ipython",
    "version": 3
   },
   "file_extension": ".py",
   "mimetype": "text/x-python",
   "name": "python",
   "nbconvert_exporter": "python",
   "pygments_lexer": "ipython3",
   "version": "3.8.13"
  },
  "orig_nbformat": 4
 },
 "nbformat": 4,
 "nbformat_minor": 2
}
