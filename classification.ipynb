{
 "cells": [
  {
   "cell_type": "markdown",
   "metadata": {},
   "source": [
    "## Classification (Target Label Generation) using Decision Tree"
   ]
  },
  {
   "cell_type": "markdown",
   "metadata": {},
   "source": [
    "Handling Imports"
   ]
  },
  {
   "cell_type": "code",
   "execution_count": 129,
   "metadata": {},
   "outputs": [],
   "source": [
    "import pandas as pd\n",
    "import numpy as np\n",
    "from sklearn.metrics import confusion_matrix\n",
    "from sklearn.model_selection import train_test_split\n",
    "from sklearn.tree import DecisionTreeClassifier\n",
    "from sklearn.metrics import accuracy_score\n",
    "from sklearn.metrics import classification_report"
   ]
  },
  {
   "cell_type": "markdown",
   "metadata": {},
   "source": [
    "Loading Data from CSV"
   ]
  },
  {
   "cell_type": "code",
   "execution_count": 130,
   "metadata": {},
   "outputs": [
    {
     "data": {
      "text/html": [
       "<div>\n",
       "<style scoped>\n",
       "    .dataframe tbody tr th:only-of-type {\n",
       "        vertical-align: middle;\n",
       "    }\n",
       "\n",
       "    .dataframe tbody tr th {\n",
       "        vertical-align: top;\n",
       "    }\n",
       "\n",
       "    .dataframe thead th {\n",
       "        text-align: right;\n",
       "    }\n",
       "</style>\n",
       "<table border=\"1\" class=\"dataframe\">\n",
       "  <thead>\n",
       "    <tr style=\"text-align: right;\">\n",
       "      <th></th>\n",
       "      <th>IMG_NUM</th>\n",
       "      <th>SOURCE_DATASET</th>\n",
       "      <th>AB</th>\n",
       "      <th>AC</th>\n",
       "      <th>AD</th>\n",
       "      <th>AE</th>\n",
       "      <th>BC</th>\n",
       "      <th>BD</th>\n",
       "      <th>BE</th>\n",
       "      <th>CD</th>\n",
       "      <th>CE</th>\n",
       "      <th>DE</th>\n",
       "      <th>TARGET</th>\n",
       "    </tr>\n",
       "  </thead>\n",
       "  <tbody>\n",
       "    <tr>\n",
       "      <th>0</th>\n",
       "      <td>28</td>\n",
       "      <td>A</td>\n",
       "      <td>133.454112</td>\n",
       "      <td>7.071068</td>\n",
       "      <td>105.095195</td>\n",
       "      <td>10.000000</td>\n",
       "      <td>154.003247</td>\n",
       "      <td>88.617154</td>\n",
       "      <td>5.830952</td>\n",
       "      <td>9.055385</td>\n",
       "      <td>7.071068</td>\n",
       "      <td>11.661904</td>\n",
       "      <td>dense</td>\n",
       "    </tr>\n",
       "    <tr>\n",
       "      <th>1</th>\n",
       "      <td>42</td>\n",
       "      <td>A</td>\n",
       "      <td>62.801274</td>\n",
       "      <td>84.504438</td>\n",
       "      <td>42.059482</td>\n",
       "      <td>31.622777</td>\n",
       "      <td>152.947703</td>\n",
       "      <td>339.676317</td>\n",
       "      <td>59.304300</td>\n",
       "      <td>57.454330</td>\n",
       "      <td>385.149322</td>\n",
       "      <td>336.154726</td>\n",
       "      <td>dense</td>\n",
       "    </tr>\n",
       "    <tr>\n",
       "      <th>2</th>\n",
       "      <td>14</td>\n",
       "      <td>A</td>\n",
       "      <td>41.629317</td>\n",
       "      <td>29.732137</td>\n",
       "      <td>31.622777</td>\n",
       "      <td>26.172505</td>\n",
       "      <td>40.607881</td>\n",
       "      <td>35.227830</td>\n",
       "      <td>287.141080</td>\n",
       "      <td>215.520301</td>\n",
       "      <td>33.136083</td>\n",
       "      <td>368.989160</td>\n",
       "      <td>dense</td>\n",
       "    </tr>\n",
       "    <tr>\n",
       "      <th>3</th>\n",
       "      <td>21</td>\n",
       "      <td>A</td>\n",
       "      <td>41.868843</td>\n",
       "      <td>63.600314</td>\n",
       "      <td>69.462220</td>\n",
       "      <td>285.917820</td>\n",
       "      <td>35.227830</td>\n",
       "      <td>293.586444</td>\n",
       "      <td>368.110038</td>\n",
       "      <td>42.544095</td>\n",
       "      <td>22.472205</td>\n",
       "      <td>38.013156</td>\n",
       "      <td>dense</td>\n",
       "    </tr>\n",
       "    <tr>\n",
       "      <th>4</th>\n",
       "      <td>19</td>\n",
       "      <td>A</td>\n",
       "      <td>330.151480</td>\n",
       "      <td>3.162278</td>\n",
       "      <td>6.000000</td>\n",
       "      <td>164.003049</td>\n",
       "      <td>169.002959</td>\n",
       "      <td>510.553621</td>\n",
       "      <td>4.472136</td>\n",
       "      <td>187.024063</td>\n",
       "      <td>4.123106</td>\n",
       "      <td>349.322201</td>\n",
       "      <td>dense</td>\n",
       "    </tr>\n",
       "  </tbody>\n",
       "</table>\n",
       "</div>"
      ],
      "text/plain": [
       "   IMG_NUM SOURCE_DATASET          AB         AC          AD          AE  \\\n",
       "0       28              A  133.454112   7.071068  105.095195   10.000000   \n",
       "1       42              A   62.801274  84.504438   42.059482   31.622777   \n",
       "2       14              A   41.629317  29.732137   31.622777   26.172505   \n",
       "3       21              A   41.868843  63.600314   69.462220  285.917820   \n",
       "4       19              A  330.151480   3.162278    6.000000  164.003049   \n",
       "\n",
       "           BC          BD          BE          CD          CE          DE  \\\n",
       "0  154.003247   88.617154    5.830952    9.055385    7.071068   11.661904   \n",
       "1  152.947703  339.676317   59.304300   57.454330  385.149322  336.154726   \n",
       "2   40.607881   35.227830  287.141080  215.520301   33.136083  368.989160   \n",
       "3   35.227830  293.586444  368.110038   42.544095   22.472205   38.013156   \n",
       "4  169.002959  510.553621    4.472136  187.024063    4.123106  349.322201   \n",
       "\n",
       "  TARGET  \n",
       "0  dense  \n",
       "1  dense  \n",
       "2  dense  \n",
       "3  dense  \n",
       "4  dense  "
      ]
     },
     "execution_count": 130,
     "metadata": {},
     "output_type": "execute_result"
    }
   ],
   "source": [
    "cluster_data = pd.read_csv(\"exported.csv\", index_col=0)\n",
    "cluster_data.head()"
   ]
  },
  {
   "cell_type": "markdown",
   "metadata": {},
   "source": [
    "Preparing X and Y slices of data, where X is our source data and Y contains the Target Class"
   ]
  },
  {
   "cell_type": "code",
   "execution_count": 131,
   "metadata": {},
   "outputs": [],
   "source": [
    "X = cluster_data.values[:, 2:-2]\n",
    "Y = cluster_data.values[:, -1]"
   ]
  },
  {
   "cell_type": "markdown",
   "metadata": {},
   "source": [
    "Splitting data into Train and Test"
   ]
  },
  {
   "cell_type": "code",
   "execution_count": 132,
   "metadata": {},
   "outputs": [],
   "source": [
    "X_train, X_test, y_train, y_test = train_test_split(X, Y, test_size=0.3)"
   ]
  },
  {
   "cell_type": "markdown",
   "metadata": {},
   "source": [
    "Setting up functions to create decision tree"
   ]
  },
  {
   "cell_type": "code",
   "execution_count": 133,
   "metadata": {},
   "outputs": [],
   "source": [
    "# Function to perform training with giniIndex.\n",
    "def train_using_gini(X_train, X_test, y_train):\n",
    "    # Creating the classifier object\n",
    "    clf_gini = DecisionTreeClassifier(criterion = \"gini\", random_state = 100, max_depth=5, min_samples_leaf=5)\n",
    "    # Performing training\n",
    "    clf_gini.fit(X_train, y_train)\n",
    "    return clf_gini\n",
    "\n",
    "# Function to make predictions\n",
    "def prediction(X_test, clf_object):  \n",
    "    # Predicton on test with giniIndex\n",
    "    y_pred = clf_object.predict(X_test)\n",
    "    print(\"Predicted values:\")\n",
    "    print(y_pred)\n",
    "    return y_pred\n",
    "\n",
    "# Function to calculate accuracy\n",
    "def cal_accuracy(y_test, y_pred):      \n",
    "    print(\"Confusion Matrix: \", confusion_matrix(y_test, y_pred))\n",
    "    print (\"Accuracy : \", accuracy_score(y_test,y_pred) * 100)\n",
    "    print(\"Report : \", classification_report(y_test, y_pred))"
   ]
  },
  {
   "cell_type": "code",
   "execution_count": 134,
   "metadata": {},
   "outputs": [
    {
     "name": "stdout",
     "output_type": "stream",
     "text": [
      "Predicted values:\n",
      "['medium' 'medium' 'medium' 'medium' 'sparse' 'medium' 'medium' 'sparse'\n",
      " 'medium']\n",
      "Confusion Matrix:  [[0 6 1]\n",
      " [0 1 0]\n",
      " [0 0 1]]\n",
      "Accuracy :  22.22222222222222\n",
      "Report :                precision    recall  f1-score   support\n",
      "\n",
      "       dense       0.00      0.00      0.00         7\n",
      "      medium       0.14      1.00      0.25         1\n",
      "      sparse       0.50      1.00      0.67         1\n",
      "\n",
      "    accuracy                           0.22         9\n",
      "   macro avg       0.21      0.67      0.31         9\n",
      "weighted avg       0.07      0.22      0.10         9\n",
      "\n"
     ]
    },
    {
     "name": "stderr",
     "output_type": "stream",
     "text": [
      "/home/hardik/.local/lib/python3.8/site-packages/sklearn/metrics/_classification.py:1318: UndefinedMetricWarning: Precision and F-score are ill-defined and being set to 0.0 in labels with no predicted samples. Use `zero_division` parameter to control this behavior.\n",
      "  _warn_prf(average, modifier, msg_start, len(result))\n",
      "/home/hardik/.local/lib/python3.8/site-packages/sklearn/metrics/_classification.py:1318: UndefinedMetricWarning: Precision and F-score are ill-defined and being set to 0.0 in labels with no predicted samples. Use `zero_division` parameter to control this behavior.\n",
      "  _warn_prf(average, modifier, msg_start, len(result))\n",
      "/home/hardik/.local/lib/python3.8/site-packages/sklearn/metrics/_classification.py:1318: UndefinedMetricWarning: Precision and F-score are ill-defined and being set to 0.0 in labels with no predicted samples. Use `zero_division` parameter to control this behavior.\n",
      "  _warn_prf(average, modifier, msg_start, len(result))\n"
     ]
    }
   ],
   "source": [
    "clf_gini = train_using_gini(X_train, X_test, y_train)\n",
    "\n",
    "y_pred_gini = prediction(X_test, clf_gini)\n",
    "cal_accuracy(y_test, y_pred_gini)"
   ]
  }
 ],
 "metadata": {
  "interpreter": {
   "hash": "5b3ded1ccb95c1d9bd405e7b823d9e85424cde40fbb5985eb47e999ef50e15b4"
  },
  "kernelspec": {
   "display_name": "Python 3.8.13 64-bit",
   "language": "python",
   "name": "python3"
  },
  "language_info": {
   "codemirror_mode": {
    "name": "ipython",
    "version": 3
   },
   "file_extension": ".py",
   "mimetype": "text/x-python",
   "name": "python",
   "nbconvert_exporter": "python",
   "pygments_lexer": "ipython3",
   "version": "3.8.13"
  },
  "orig_nbformat": 4
 },
 "nbformat": 4,
 "nbformat_minor": 2
}
