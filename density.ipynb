{
 "cells": [
  {
   "cell_type": "markdown",
   "metadata": {},
   "source": [
    "### Tasks\n",
    "- Read data from Shangai Tech Dataset\n",
    "- Crop images into parts of 4\n",
    "- Check if the split image has any person\n",
    "-- If YES then apply clustering and form clusters\n",
    "-- If NO then move on\n",
    "- Once clustered, classify image as DENSE, MEDIUM or SPARSE"
   ]
  }
 ],
 "metadata": {
  "language_info": {
   "name": "python"
  },
  "orig_nbformat": 4
 },
 "nbformat": 4,
 "nbformat_minor": 2
}
