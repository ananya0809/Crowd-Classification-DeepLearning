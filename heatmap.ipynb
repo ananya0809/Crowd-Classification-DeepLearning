{
 "cells": [
  {
   "cell_type": "markdown",
   "metadata": {},
   "source": [
    "## Tensorflow inference to generate heatmap of crowd"
   ]
  },
  {
   "cell_type": "markdown",
   "metadata": {},
   "source": [
    "Handling Imports"
   ]
  },
  {
   "cell_type": "code",
   "execution_count": 8,
   "metadata": {},
   "outputs": [],
   "source": [
    "import numpy as np\n",
    "import cv2\n",
    "import tensorflow as tf\n",
    "from tensorflow import keras\n",
    "import os\n",
    "import random\n",
    "import math\n",
    "import sys\n",
    "from pyheatmap.heatmap import HeatMap"
   ]
  },
  {
   "cell_type": "code",
   "execution_count": 13,
   "metadata": {},
   "outputs": [
    {
     "name": "stdout",
     "output_type": "stream",
     "text": [
      "Loaded model from disk successfully\n"
     ]
    }
   ],
   "source": [
    "json_file = open('model.json', 'r')\n",
    "loaded_model_json = json_file.read()\n",
    "json_file.close()\n",
    "model = keras.models.model_from_json(loaded_model_json)\n",
    "\n",
    "model.load_weights(\"weights.h5\")\n",
    "\n",
    "print(\"Loaded model from disk successfully\")"
   ]
  },
  {
   "cell_type": "code",
   "execution_count": 17,
   "metadata": {},
   "outputs": [
    {
     "name": "stdout",
     "output_type": "stream",
     "text": [
      "loading test data from dataset B ...\n",
      "50 / 316\n",
      "100 / 316\n",
      "150 / 316\n",
      "200 / 316\n",
      "250 / 316\n",
      "300 / 316\n"
     ]
    }
   ],
   "source": [
    "dataset = \"B\"\n",
    "img_path = './data/original/shanghaitech/part_' + dataset + '_final/test_data/images/'\n",
    "den_path = './data/original/shanghaitech/part_' + dataset + '_final/test_data/ground_truth_csv/'\n",
    "print('loading test data from dataset', dataset, '...')\n",
    "img_names = os.listdir(img_path)\n",
    "img_num = len(img_names)\n",
    "\n",
    "data = []\n",
    "for i in range(1, img_num + 1):\n",
    "    if i % 50 == 0:\n",
    "        print(i, '/', img_num)\n",
    "    name = 'IMG_' + str(i) + '.jpg'\n",
    "    img = cv2.imread(img_path + name, 0)\n",
    "    img = np.array(img)\n",
    "    img = (img - 127.5) / 128\n",
    "    den = np.loadtxt(open(den_path + name[:-4] + '.csv'), delimiter = \",\")\n",
    "    den_sum = np.sum(den)\n",
    "    data.append([img, den_sum])\n",
    "\n",
    "    # if i <= 2:\n",
    "        # heatmap(den, i, dataset, 'act')"
   ]
  },
  {
   "cell_type": "code",
   "execution_count": 18,
   "metadata": {},
   "outputs": [],
   "source": [
    "mae = 0\n",
    "mse = 0"
   ]
  },
  {
   "cell_type": "code",
   "execution_count": 23,
   "metadata": {},
   "outputs": [
    {
     "name": "stdout",
     "output_type": "stream",
     "text": [
      "1/1 [==============================] - 0s 173ms/step\n"
     ]
    }
   ],
   "source": [
    "d = data[0]\n",
    "inputs = np.reshape(d[0], [1, 768, 1024, 1])\n",
    "outputs = model.predict(inputs)\n",
    "den = d[1]\n",
    "c_actual = np.sum(den)\n",
    "c_predicted = np.sum(outputs)"
   ]
  },
  {
   "cell_type": "code",
   "execution_count": 24,
   "metadata": {},
   "outputs": [
    {
     "name": "stdout",
     "output_type": "stream",
     "text": [
      "22.99991944\n",
      "35.028015\n"
     ]
    }
   ],
   "source": [
    "print(c_actual)\n",
    "print(c_predicted)"
   ]
  },
  {
   "cell_type": "code",
   "execution_count": 26,
   "metadata": {},
   "outputs": [],
   "source": [
    "y_p_den = np.reshape(outputs, (outputs.shape[1], outputs.shape[2]))"
   ]
  },
  {
   "cell_type": "code",
   "execution_count": 27,
   "metadata": {},
   "outputs": [],
   "source": [
    "\n",
    "def heatmap(den, img_num, dataset, info):\n",
    "    print('generating heat map for img', img_num)\n",
    "    print('shape:', den.shape)\n",
    "    \n",
    "    if info == 'pre':\n",
    "        den_resized = np.zeros((den.shape[0] * 4, den.shape[1] * 4))\n",
    "        for i in range(den_resized.shape[0]):\n",
    "            for j in range(den_resized.shape[1]):\n",
    "                den_resized[i][j] = den[int(i / 4)][int(j / 4)] / 16\n",
    "        den = den_resized\n",
    "    \n",
    "    \n",
    "    img_path = './data/original/shanghaitech/part_' + dataset + '_final/test_data/images/'\n",
    "    count = np.sum(den)\n",
    "    den = den * 10 / np.max(den)\n",
    "    img = cv2.imread(img_path + 'IMG_' + str(img_num) + '.jpg', 1)\n",
    "    \n",
    "    w = img.shape[1]\n",
    "    h = img.shape[0]\n",
    "     \n",
    "    data = []\n",
    "    for j in range(len(den)):\n",
    "        for i in range(len(den[0])):\n",
    "            for k in range(int(den[j][i])):\n",
    "                data.append([i + 1, j + 1])\n",
    "    hm = HeatMap(data, base = img_path + 'IMG_' + str(img_num) + '.jpg')\n",
    "    hm.heatmap(save_as = 'heat_' + dataset + '_' + str(img_num) + '_' + info + '_' + str(int(count)) + '.png')"
   ]
  },
  {
   "cell_type": "code",
   "execution_count": 28,
   "metadata": {},
   "outputs": [
    {
     "name": "stdout",
     "output_type": "stream",
     "text": [
      "generating heat map for img 1\n",
      "shape: (192, 256)\n"
     ]
    }
   ],
   "source": [
    "heatmap(y_p_den, 1, dataset, 'pre')"
   ]
  }
 ],
 "metadata": {
  "interpreter": {
   "hash": "5b3ded1ccb95c1d9bd405e7b823d9e85424cde40fbb5985eb47e999ef50e15b4"
  },
  "kernelspec": {
   "display_name": "Python 3.8.13 64-bit",
   "language": "python",
   "name": "python3"
  },
  "language_info": {
   "codemirror_mode": {
    "name": "ipython",
    "version": 3
   },
   "file_extension": ".py",
   "mimetype": "text/x-python",
   "name": "python",
   "nbconvert_exporter": "python",
   "pygments_lexer": "ipython3",
   "version": "3.8.13"
  },
  "orig_nbformat": 4
 },
 "nbformat": 4,
 "nbformat_minor": 2
}
